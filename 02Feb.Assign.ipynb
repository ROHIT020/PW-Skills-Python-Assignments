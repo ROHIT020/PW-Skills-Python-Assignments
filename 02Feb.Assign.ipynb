{
 "cells": [
  {
   "cell_type": "code",
   "execution_count": 1,
   "id": "686894dc-127d-4949-963f-5f252b86f067",
   "metadata": {},
   "outputs": [
    {
     "name": "stdout",
     "output_type": "stream",
     "text": [
      "1\n",
      "2\n",
      "3\n",
      "1\n",
      "2\n",
      "3\n",
      "4\n",
      "5\n"
     ]
    }
   ],
   "source": [
    "#1 Explain with an example each when to use a for loop and a while loop.\n",
    "\n",
    "For Loop-\n",
    "  The for loop is used when we already know the number of iterations, which means when we know how many times a\n",
    "  statement has to be executed. That is why we have to specify the ending point in the for loop initialization.\n",
    "Eg-\n",
    "n = [1, 2, 3]  # Initialization\n",
    "for i in n:  # Condition and Updation\n",
    "    print(i)\n",
    "\n",
    "While Loop-\n",
    "          In this case, it is not necessary to know the condition beforehand. That is why we can give a boolean\n",
    "          expression in the initialization of the loop.\n",
    "          When we need to end the loop on a condition other than the number of times, we use a while loop.\n",
    "Eg-\n",
    "i = 1  # Initialization\n",
    "while i < 6:  # Condition\n",
    "    print(i)\n",
    "    i += 1  # Updation\n",
    "\n"
   ]
  },
  {
   "cell_type": "code",
   "execution_count": 7,
   "id": "6ebb0328-01f2-4fb3-a350-9a69e11a406a",
   "metadata": {},
   "outputs": [],
   "source": [
    "Q2. Write a python program to print the sum and product of the first 10 natural numbers using for\n",
    "    and while loop."
   ]
  },
  {
   "cell_type": "code",
   "execution_count": 5,
   "id": "34d9a877-6f41-42e8-bf85-8a02a02420bf",
   "metadata": {},
   "outputs": [
    {
     "name": "stdout",
     "output_type": "stream",
     "text": [
      "The sum is 55\n",
      "The product is 3628800\n"
     ]
    }
   ],
   "source": [
    "#Ans 2-\n",
    "# Sum of natural numbers up to num\n",
    "\n",
    "num = 10\n",
    "\n",
    "if num < 0:\n",
    "   print(\"Enter a positive number\")\n",
    "else:\n",
    "   sum = 0\n",
    "   # use while loop to iterate until zero\n",
    "   while(num > 0):\n",
    "       sum += num\n",
    "       num -= 1\n",
    "   print(\"The sum is\", sum)\n",
    "\n",
    "# Product \n",
    "\n",
    "num=10\n",
    "product=1\n",
    "i=1\n",
    "while i<=num:\n",
    "    product*=i\n",
    "    i=i+1\n",
    "print(\"The product is\",product)"
   ]
  },
  {
   "cell_type": "code",
   "execution_count": null,
   "id": "5edff566-fdca-4f13-ad0d-8926f2dbb4c5",
   "metadata": {},
   "outputs": [],
   "source": [
    "Q3. Create a python program to compute the electricity bill for a household.The per-unit charges in rupees are\n",
    "as follows: For the first 100 units, the user will be charged Rs. 4.5 per unit, for the next 100 units, the user\n",
    "will be charged Rs. 6 per unit, and for the next 100 units, the user will be charged Rs. 10 per unit, After 300\n",
    "units and above the user will be charged Rs. 20 per unit. You are required to take the units of electricity \n",
    "consumed in a month from the user as input. Your program must pass this test case: when the unit of electricity\n",
    "consumed by the user in a month is 310, the total electricity bill should be 2250."
   ]
  },
  {
   "cell_type": "code",
   "execution_count": 4,
   "id": "4bf7be44-7150-49bb-acf1-ea1c81768bf3",
   "metadata": {},
   "outputs": [
    {
     "name": "stdin",
     "output_type": "stream",
     "text": [
      "Enter your unit:  310\n"
     ]
    },
    {
     "name": "stdout",
     "output_type": "stream",
     "text": [
      "Total Bill: 2250\n"
     ]
    }
   ],
   "source": [
    "#Ans3-\n",
    "unit = int(input(\"Enter your unit: \"))\n",
    "if unit <= 100:\n",
    "    bill = unit * 4.5\n",
    "elif unit >= 101 and unit <= 200:\n",
    "    bill = 450 + ((unit - 100) * 6)\n",
    "elif unit >= 201 and unit <= 300:\n",
    "    bill = 450 + 600 + ((unit - 200) * 10)\n",
    "else:\n",
    "    bill = 450 + 600 + 1000 + ((unit - 300) * 20)\n",
    "print(\"Total Bill:\",bill)"
   ]
  },
  {
   "cell_type": "code",
   "execution_count": null,
   "id": "5bf027ed-d750-4890-a85c-688598958549",
   "metadata": {},
   "outputs": [],
   "source": [
    "Q4. Create a list of numbers from 1 to 100. Use for loop and while loop to calculate the cube of each\n",
    "number and if the cube of that number is divisible by 4 or 5 then append that number in a list and print\n",
    "that list."
   ]
  },
  {
   "cell_type": "code",
   "execution_count": 39,
   "id": "44a02b89-6e94-4597-81e5-a1f3579d8861",
   "metadata": {},
   "outputs": [
    {
     "name": "stdout",
     "output_type": "stream",
     "text": [
      "[1, 8, 27, 64, 125, 216, 343, 512, 729, 1000, 1331, 1728, 2197, 2744, 3375, 4096, 4913, 5832, 6859, 8000, 9261, 10648, 12167, 13824, 15625, 17576, 19683, 21952, 24389, 27000, 29791, 32768, 35937, 39304, 42875, 46656, 50653, 54872, 59319, 64000, 68921, 74088, 79507, 85184, 91125, 97336, 103823, 110592, 117649, 125000, 132651, 140608, 148877, 157464, 166375, 175616, 185193, 195112, 205379, 216000, 226981, 238328, 250047, 262144, 274625, 287496, 300763, 314432, 328509, 343000, 357911, 373248, 389017, 405224, 421875, 438976, 456533, 474552, 493039, 512000, 531441, 551368, 571787, 592704, 614125, 636056, 658503, 681472, 704969, 729000, 753571, 778688, 804357, 830584, 857375, 884736, 912673, 941192, 970299]\n"
     ]
    }
   ],
   "source": [
    "#Ans 4-\n",
    "cubes = []\n",
    "for i in range(1, 100):\n",
    "    cubes.append(i**3)\n",
    "print(cubes)"
   ]
  },
  {
   "cell_type": "code",
   "execution_count": 40,
   "id": "8f8d11a1-fdcc-45bf-b58a-f8ffb014474d",
   "metadata": {},
   "outputs": [
    {
     "name": "stdout",
     "output_type": "stream",
     "text": [
      "[8, 64, 125, 216, 512, 1000, 1728, 2744, 3375, 4096, 5832, 8000, 10648, 13824, 15625, 17576, 21952, 27000, 32768, 39304, 42875, 46656, 54872, 64000, 74088, 85184, 91125, 97336, 110592, 125000, 140608, 157464, 166375, 175616, 195112, 216000, 238328, 262144, 274625, 287496, 314432, 343000, 373248, 405224, 421875, 438976, 474552, 512000, 551368, 592704, 614125, 636056, 681472, 729000, 778688, 830584, 857375, 884736, 941192]\n"
     ]
    }
   ],
   "source": [
    "#We can obtain it by using the comprehension.\n",
    "\n",
    "result=[i for i in cubes if i%4==0 or i%5==0]\n",
    "print(result)"
   ]
  },
  {
   "cell_type": "code",
   "execution_count": null,
   "id": "b4c99529-202e-46f1-9c1b-51c25c036d67",
   "metadata": {},
   "outputs": [],
   "source": [
    "Q5. Write a program to filter count vowels in the below-given string.\n",
    "string = \"I want to become a data scientist\""
   ]
  },
  {
   "cell_type": "code",
   "execution_count": 44,
   "id": "0015b8c2-714a-4a27-931d-3b3e3de8af38",
   "metadata": {},
   "outputs": [
    {
     "name": "stdout",
     "output_type": "stream",
     "text": [
      "No. of vowels : 12\n"
     ]
    }
   ],
   "source": [
    "#Ans-\n",
    "string = \"I want to become a data scientist\"\n",
    "\n",
    "vowels = \"aeiouAEIOU\"\n",
    "\n",
    "count = len([i for i in string if i in vowels])\n",
    "\n",
    "print(\"No. of vowels :\", count)\n"
   ]
  },
  {
   "cell_type": "code",
   "execution_count": null,
   "id": "eaf07650-0499-4898-b281-2cf9d213ec0d",
   "metadata": {},
   "outputs": [],
   "source": []
  }
 ],
 "metadata": {
  "kernelspec": {
   "display_name": "Python 3 (ipykernel)",
   "language": "python",
   "name": "python3"
  },
  "language_info": {
   "codemirror_mode": {
    "name": "ipython",
    "version": 3
   },
   "file_extension": ".py",
   "mimetype": "text/x-python",
   "name": "python",
   "nbconvert_exporter": "python",
   "pygments_lexer": "ipython3",
   "version": "3.10.8"
  }
 },
 "nbformat": 4,
 "nbformat_minor": 5
}
