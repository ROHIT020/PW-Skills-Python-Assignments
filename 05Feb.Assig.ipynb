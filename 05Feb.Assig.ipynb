{
 "cells": [
  {
   "cell_type": "markdown",
   "id": "d245433d-f92f-4d11-b9fb-a31a9b7af660",
   "metadata": {},
   "source": [
    "Q1. Explain Class and Object with respect to Object-Oriented Programming. Give a suitable example."
   ]
  },
  {
   "cell_type": "code",
   "execution_count": null,
   "id": "2277a3db-254c-4eed-b73b-4557f5ee8394",
   "metadata": {},
   "outputs": [],
   "source": [
    "Ans-Class-Class may nbe defined as the blueprint/template that describes the behaviour/state that object of this type of support.\n",
    "    Object-Objects have states and behaviors. Example: A dog has states - color, name, breed as well as behaviors – wagging the tail, barking,\n",
    "    eating. An object is an instance of a class."
   ]
  },
  {
   "cell_type": "markdown",
   "id": "1f557773-983c-4e19-bd60-1996d072c6eb",
   "metadata": {},
   "source": [
    "Q2. Name the four pillars of OOPs."
   ]
  },
  {
   "cell_type": "code",
   "execution_count": null,
   "id": "db49bbc4-d71b-479b-aaae-d5249f9878cc",
   "metadata": {},
   "outputs": [],
   "source": [
    "Ans-\n",
    "1-Inheritance\n",
    "2-Data Abstraction\n",
    "3-Polymorphism\n",
    "4-Data Encapsulation"
   ]
  },
  {
   "cell_type": "markdown",
   "id": "5e2764bf-145b-4376-bfc5-925ecbfedc66",
   "metadata": {},
   "source": [
    "Q3. Explain why the __init__() function is used. Give a suitable example."
   ]
  },
  {
   "cell_type": "code",
   "execution_count": null,
   "id": "7d19c91d-d6d1-4cfe-9908-119592e2491e",
   "metadata": {},
   "outputs": [],
   "source": [
    "Ans- __init__ is a special python method that runs whenever a new object is created. These types of functions are used to initialize the attributes of\n",
    "    that class, E.g., if the class is Person, then the attributes will be name, age, etc.\n",
    "Example:\n",
    "class Insects:\n",
    "    def __init__(self, legs, wings):\n",
    "        self.legs = legs\n",
    "        self.wings = wings\n",
    " \n",
    "    def looks(self):\n",
    "        return (\"No. of Legs: \" + self.legs + \"\\nNo. of Wings \" + self.wings)\n",
    " \n",
    "I = Insects('6', '2')\n",
    "print(I.looks())\n",
    "\n",
    "Explain:\n",
    "In the above example, object ‘I’ is created to invoke the methods of class Insects, and the __init__ method initializes with values ‘6’ and ‘2’, which\n",
    "are assigned to legs and wings, respectively. When the looks() method is called, the value of legs and wings is printed out to the console"
   ]
  },
  {
   "cell_type": "markdown",
   "id": "5b102410-c08a-4ba2-92d1-f5a7059730c1",
   "metadata": {},
   "source": [
    "Q4. Why self is used in OOPs?"
   ]
  },
  {
   "cell_type": "code",
   "execution_count": null,
   "id": "5675ca66-11e9-4463-b77e-d511d1c511fb",
   "metadata": {},
   "outputs": [],
   "source": [
    "Ans- By using the “self”  we can access the attributes and methods of the class in python. It binds the attributes with the given arguments."
   ]
  },
  {
   "cell_type": "markdown",
   "id": "7573c88b-513f-479b-b4f8-c44f0699732d",
   "metadata": {},
   "source": [
    "Q5. What is inheritance? Give an example for each type of inheritance."
   ]
  },
  {
   "cell_type": "code",
   "execution_count": null,
   "id": "be9d8173-28c8-4c53-b533-4cd18a23a1bf",
   "metadata": {},
   "outputs": [],
   "source": [
    "Ans-Inheritance is the ability of one class to inherit another class. Inheritance provides reusability of code and allows us to create complex and\n",
    "real-world-like relationships among objects.\n",
    "1. Single Inheritance:\n",
    "    When one child class inherits only one parent class, it is called single inheritance. It is illustrated in the above image. It is the most basic\n",
    "    type of inheritance.\n",
    "class Person:\n",
    "\n",
    "    def __init__(self, name, age):\n",
    "        self.name = name\n",
    "        self.age = age\n",
    "\n",
    "class Professor(Person):\n",
    "\n",
    "    def isProfessor(self):\n",
    "        return f\"{self.name} is a Professor\"\n",
    "\n",
    "sir = Professor(\"John\", 30)\n",
    "\n",
    "print(sir.isProfessor())\n",
    "\n",
    "2. Multiple Inheritance:\n",
    "     When one child class inherits two or more parent classes, it is called Multiple Inheritance. Unlike Python, this feature is not supported in\n",
    "        Java and C++.\n",
    "class SuperClass1:\n",
    "    num1 = 3\n",
    "\n",
    "class SuperClass2:\n",
    "    num2 = 5\n",
    "\n",
    "class SubClass( SuperClass1, SuperClass2):\n",
    "    def addition(self):\n",
    "        return self.num1 + self.num2\n",
    "\n",
    "obj = SubClass()\n",
    "print(obj.addition())"
   ]
  },
  {
   "cell_type": "code",
   "execution_count": null,
   "id": "ab6b089a-bda8-4e69-905b-9f1c40e80c94",
   "metadata": {},
   "outputs": [],
   "source": []
  }
 ],
 "metadata": {
  "kernelspec": {
   "display_name": "Python 3 (ipykernel)",
   "language": "python",
   "name": "python3"
  },
  "language_info": {
   "codemirror_mode": {
    "name": "ipython",
    "version": 3
   },
   "file_extension": ".py",
   "mimetype": "text/x-python",
   "name": "python",
   "nbconvert_exporter": "python",
   "pygments_lexer": "ipython3",
   "version": "3.10.8"
  }
 },
 "nbformat": 4,
 "nbformat_minor": 5
}
