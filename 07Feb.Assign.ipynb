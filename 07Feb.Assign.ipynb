{
 "cells": [
  {
   "cell_type": "markdown",
   "id": "b734762d-2e2e-4ef8-b4d2-7cef793fbee4",
   "metadata": {},
   "source": [
    "Q1. You are writing code for a company. The requirement of the company is that you create a python\n",
    "function that will check whether the password entered by the user is correct or not. The function should\n",
    "take the password as input and return the string “Valid Password” if the entered password follows the\n",
    "below-given password guidelines else it should return “Invalid Password”.\n",
    "Note: 1. The Password should contain at least two uppercase letters and at least two lowercase letters.\n",
    "2. The Password should contain at least a number and three special characters.\n",
    "3. The length of the password should be 10 characters long."
   ]
  },
  {
   "cell_type": "code",
   "execution_count": 17,
   "id": "42e2d9fe-bdc9-4029-942b-1c3d20a65bc1",
   "metadata": {},
   "outputs": [
    {
     "name": "stdout",
     "output_type": "stream",
     "text": [
      "Valid Password\n"
     ]
    }
   ],
   "source": [
    "import re\n",
    "password = \"R@oh@_k4$3r\"\n",
    "flag = 0\n",
    "while True:\n",
    "    if (len(password)<=10):\n",
    "        flag = -1\n",
    "        break\n",
    "    elif not re.search(\"[a-z]\", password):\n",
    "        flag = -1\n",
    "        break\n",
    "    elif not re.search(\"[A-Z]\", password):\n",
    "        flag = -1\n",
    "        break\n",
    "    elif not re.search(\"[0-9]\", password):\n",
    "        flag = -1\n",
    "        break\n",
    "    elif not re.search(\"[_@$]\" , password):\n",
    "        flag = -1\n",
    "        break\n",
    "    elif re.search(\"\\s\" , password):\n",
    "        flag = -1\n",
    "        break\n",
    "    else:\n",
    "        flag = 0\n",
    "        print(\"Valid Password\")\n",
    "        break\n",
    " \n",
    "if flag == -1:\n",
    "    print(\"Not a Valid Password \")"
   ]
  },
  {
   "cell_type": "code",
   "execution_count": null,
   "id": "824f2418-2a15-41f8-8930-05096c3e4cad",
   "metadata": {},
   "outputs": [],
   "source": []
  },
  {
   "cell_type": "markdown",
   "id": "f1af44db-67be-4847-aa9a-f48e8172f0da",
   "metadata": {},
   "source": [
    "Q2. Solve the below-given questions using at least one of the following:\n",
    "1. Lambda functioJ\n",
    "2. Filter functioJ\n",
    "3. Zap functioJ\n",
    "4. List ComprehensioI\n",
    "B Check if the string starts with a particular letterY\n",
    "B Check if the string is numericY\n",
    "B Sort a list of tuples having fruit names and their quantity. [(\"mango\",99),(\"orange\",80), (\"grapes\", 1000)-\n",
    "B Find the squares of numbers from 1 to 10Y\n",
    "B Find the cube root of numbers from 1 to 10Y\n",
    "B Check if a given number is evenY\n",
    "B Filter odd numbers from the given list.\n",
    "[1,2,3,4,5,6,7,8,9,10-\n",
    "B Sort a list of integers into positive and negative integers lists.\n",
    "[1,2,3,4,5,6,-1,-2,-3,-4,-5,0]"
   ]
  },
  {
   "cell_type": "code",
   "execution_count": 20,
   "id": "ed19a5a7-83bb-4a2f-b25c-46236ef12968",
   "metadata": {},
   "outputs": [
    {
     "name": "stdout",
     "output_type": "stream",
     "text": [
      "True\n",
      "False\n"
     ]
    }
   ],
   "source": [
    "#Ans>1 Check if the string starts with a particular Letter:\n",
    "start_with=lambda string,letter:string[0]==letter\n",
    "\n",
    "print(start_with(\"Rohit\",\"R\"))   #True\n",
    "print(start_with(\"Rohit\",\"r\"))    #False"
   ]
  },
  {
   "cell_type": "code",
   "execution_count": 21,
   "id": "17d49015-4fae-43aa-a41f-17bec4044dd7",
   "metadata": {},
   "outputs": [
    {
     "name": "stdout",
     "output_type": "stream",
     "text": [
      "True\n",
      "False\n"
     ]
    }
   ],
   "source": [
    "#2> Check if the string is numeric.\n",
    "\n",
    "def is_numeric(string):\n",
    "    return string.isdigit()\n",
    "print(is_numeric(\"123\"))   #True\n",
    "print(is_numeric(\"abc\"))   #False\n"
   ]
  },
  {
   "cell_type": "code",
   "execution_count": 22,
   "id": "ed596ecc-5c21-4872-86f4-398977811f11",
   "metadata": {},
   "outputs": [
    {
     "name": "stdout",
     "output_type": "stream",
     "text": [
      "[('orange', 80), ('mango', 99), ('grapes', 1000)]\n"
     ]
    }
   ],
   "source": [
    "#3>Sort a list of tuples having fruit names and their quantity.\n",
    "fruits=[(\"mango\",99),(\"orange\",80),(\"grapes\",1000)]\n",
    "sorted_fruits=sorted(fruits,key=lambda x:x[1])\n",
    "print(sorted_fruits)"
   ]
  },
  {
   "cell_type": "code",
   "execution_count": 23,
   "id": "b236110e-9056-4047-8e32-fe81fa7abf27",
   "metadata": {},
   "outputs": [
    {
     "name": "stdout",
     "output_type": "stream",
     "text": [
      "[1, 4, 9, 16, 25, 36, 49, 64, 81, 100]\n"
     ]
    }
   ],
   "source": [
    "#4>Find the squares of numbers from 1 to 10:\n",
    "sq_numbers=[x**2 for x in range(1,11)]\n",
    "print(sq_numbers)"
   ]
  },
  {
   "cell_type": "code",
   "execution_count": 24,
   "id": "18df78ff-c7a7-4f9c-9cab-2ce55b64358b",
   "metadata": {},
   "outputs": [
    {
     "name": "stdout",
     "output_type": "stream",
     "text": [
      "[1.0, 1.2599210498948732, 1.4422495703074083, 1.5874010519681994, 1.7099759466766968, 1.8171205928321397, 1.912931182772389, 2.0, 2.080083823051904, 2.154434690031884]\n"
     ]
    }
   ],
   "source": [
    "#5.Find the cube root of numbers from 1 to 10:\n",
    "import math\n",
    "cube_root_numbers=[math.pow(x,1/3)for x in range(1,11)]\n",
    "print(cube_root_numbers)"
   ]
  },
  {
   "cell_type": "code",
   "execution_count": 26,
   "id": "667e7488-18e0-46c6-bcaa-d5d98ea99422",
   "metadata": {},
   "outputs": [
    {
     "name": "stdout",
     "output_type": "stream",
     "text": [
      "True\n",
      "False\n"
     ]
    }
   ],
   "source": [
    "#6.Check if a given number is even:\n",
    "def is_even(x):\n",
    "    return x%2==0\n",
    "print(is_even(2))\n",
    "print(is_even(5))"
   ]
  },
  {
   "cell_type": "code",
   "execution_count": 27,
   "id": "cdd5381c-82b5-49cf-8586-e24f6a8be413",
   "metadata": {},
   "outputs": [
    {
     "name": "stdout",
     "output_type": "stream",
     "text": [
      "[1, 3, 5, 7, 9]\n"
     ]
    }
   ],
   "source": [
    "#7.Filter odd numbers from the given list:\n",
    "numbers=[1,2,3,4,5,6,7,8,9,10]\n",
    "odd_number=[x for x in numbers if x%2!=0]\n",
    "print(odd_number)"
   ]
  },
  {
   "cell_type": "code",
   "execution_count": 29,
   "id": "20d0802f-b59a-4da5-9ded-e43a22aad35d",
   "metadata": {},
   "outputs": [
    {
     "name": "stdout",
     "output_type": "stream",
     "text": [
      "[1, 2, 3, 4, 5, 6]\n",
      "[-1, -2, -3, -4, -5]\n"
     ]
    }
   ],
   "source": [
    "#8.Sort a list of integers into positive and negative integers lists.:\n",
    "numbers =[1,2,3,4,5,6,-1,-2,-3,-4,-5,0]\n",
    "positive_integers=[x for x in numbers if x>0]\n",
    "negative_integers=[x for x in numbers if x<0]\n",
    "print(positive_integers)\n",
    "print(negative_integers)"
   ]
  },
  {
   "cell_type": "code",
   "execution_count": null,
   "id": "05d6dacf-76be-4bc1-b2a2-a38d879b6a2a",
   "metadata": {},
   "outputs": [],
   "source": []
  }
 ],
 "metadata": {
  "kernelspec": {
   "display_name": "Python 3 (ipykernel)",
   "language": "python",
   "name": "python3"
  },
  "language_info": {
   "codemirror_mode": {
    "name": "ipython",
    "version": 3
   },
   "file_extension": ".py",
   "mimetype": "text/x-python",
   "name": "python",
   "nbconvert_exporter": "python",
   "pygments_lexer": "ipython3",
   "version": "3.10.8"
  }
 },
 "nbformat": 4,
 "nbformat_minor": 5
}
