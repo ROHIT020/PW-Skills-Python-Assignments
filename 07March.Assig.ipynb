{
 "cells": [
  {
   "cell_type": "code",
   "execution_count": null,
   "id": "1cd0cdd3-61fa-4a75-b169-56b6117bac2a",
   "metadata": {},
   "outputs": [],
   "source": [
    "Q1. What are the three measures of central tendency?\n",
    "\n",
    "Ans-In statistics, the mean, median, and mode are the three most common measures of central tendency.\n",
    "Each one calculates the central point using a different method"
   ]
  },
  {
   "cell_type": "code",
   "execution_count": null,
   "id": "357b129b-4cd2-4025-b14a-1840c2b877db",
   "metadata": {},
   "outputs": [],
   "source": [
    "Q2. What is the difference between the mean, median, and mode? How are they used to measure the\n",
    "central tendency of a dataset?\n",
    "\n",
    "Ans-The MEAN is the average where the sum of all the numbers is divided by the total number of numbers, whereas the\n",
    "MEDIAN is the middle value in the list of given numbers numerically ordered from smallest to biggest and MODE is\n",
    "the value of the number which occurs most often in the list.\n",
    " \n",
    "The mean is the average of given data values. The formula to calculate the mean value is:\n",
    "Mean = Sum of observation/Number of observations\n",
    "For example, Mean of 2, 5, 6, 7, 8 is, (2+5+6+7+8)/5 = 28/5 = 5.6\n",
    "\n",
    "The median is the middle value of a given observation. For example, 23, 33, 43, 63, and 53 is a set of observations\n",
    "then, to find the median, we need to arrange the given values in an order (ascending or descending). Hence, we get\n",
    "23, 33, 43, 53, 63\n",
    "Therefore, Median = 43\n",
    "\n",
    "Mode represents the value which is repeated the maximum number of times in a given set of observations. For example\n",
    "11, 12, 13, 13, 14, and 15 are the set of data. Here, the number 13 is repeated twice and is considered to be the \n",
    "mode value."
   ]
  },
  {
   "cell_type": "code",
   "execution_count": null,
   "id": "59a80671-db59-4dea-ab41-a227c3362215",
   "metadata": {},
   "outputs": [],
   "source": [
    "Q3. Measure the three measures of central tendency for the given height data:\n",
    "[178,177,176,177,178.2,178,175,179,180,175,178.9,176.2,177,172.5,178,176.5]\n",
    "\n",
    "Ans-Mean=sum of all observations/total no of observations\n",
    "       # Importing the statistics module\n",
    "import statistics\n",
    "\n",
    "# list of positive integer numbers\n",
    "data1 = [178,177,176,177,178.2,178,175,179,180,175,178.9,176.2,177,172.5,178,176.5]\n",
    "\n",
    "x = statistics.mean(data1)\n",
    "\n",
    "# Printing the mean\n",
    "print(\"Mean is :\", x)\n",
    "\n",
    "        \n",
    "    Median of the elements [172.5,175,175,176.2,176.5,177,177,177,178,178,178,178.2,178.9,179,180] is 177\n",
    "    \n",
    "import statistics\n",
    "print(statistics.median([172.5,175,175,176.2,176.5,177,177,177,178,178,178,178.2,178.9,179,180]))\n",
    "\n",
    "\n",
    "   \n",
    "import statistics\n",
    "set1 =[172.5,175,175,176.2,176.5,177,177,177,178,178,178,178.2,178.9,179,180]\n",
    "\n",
    "print(\"Mode of given data set is % s\" % (statistics.mode(set1)))\n",
    "\n",
    "Mode of given data set is 177"
   ]
  },
  {
   "cell_type": "code",
   "execution_count": null,
   "id": "0dbb0fac-0fcd-48ba-93af-94619fada995",
   "metadata": {},
   "outputs": [],
   "source": [
    "Q4. Find the standard deviation for the given data:\n",
    "[178,177,176,177,178.2,178,175,179,180,175,178.9,176.2,177,172.5,178,176.5]\n",
    "\n",
    "Ans-\n",
    "import statistics\n",
    "\n",
    "# Calculate the standard deviation from a sample of data\n",
    "print(statistics.stdev([178,177,176,177,178.2,178,175,179,180,175,178.9,176.2,177,172.5,178,176.5]))\n",
    "\n",
    "The st.dev is 1.8472389305844188"
   ]
  },
  {
   "cell_type": "code",
   "execution_count": null,
   "id": "7f34cbad-e1e9-4110-bd70-03d39caf1f7f",
   "metadata": {},
   "outputs": [],
   "source": [
    "Q5. How are measures of dispersion such as range, variance, and standard deviation used to describe\n",
    "the spread of a dataset? Provide an example.\n",
    "\n",
    "Ans-The measures help to determine how stretched or squeezed the given data is. There are five most commonly used\n",
    "measures of dispersion. These are range, variance, standard deviation, mean deviation, and quartile deviation.\n",
    "The most important use of measures of dispersion is that they help to get an understanding of the distribution of\n",
    "data. As the data becomes more diverse, the value of the measure of dispersion increases. In this article, we will\n",
    "learn about measures of dispersion, their types along with examples as well as various important aspects related to\n",
    "these measures.\n",
    "\n",
    "Measures of Dispersion Example\n",
    "\n",
    "Suppose we have two data sets A = {3, 1, 6, 2} and B = {1, 5, 9, 10}. The variance(population) of A is 3.5 and the\n",
    "variance(population) of B is 12.68. This implies that data set B is more variable than data set A. Thus, the \n",
    "variance helps to draw a comparison between the two data sets A and B on the basis of variability."
   ]
  },
  {
   "cell_type": "code",
   "execution_count": null,
   "id": "6f95f539-ddbd-4a3c-9fb4-8a5d6734bd5f",
   "metadata": {},
   "outputs": [],
   "source": [
    "Q6. What is a Venn diagram?\n",
    "\n",
    "Ans-Venn Diagrams are used to represent the groups of data into circles, if the circles are overlapping, some \n",
    "element in the groups are common, if they are not overlapping, there is nothing common between the groups or sets \n",
    "of the data. The sets are represented as circles and the circles are shown inside the rectangle which is represents\n",
    "Universal set. Universal set contains all the circles since it has all the elements present involving all the sets."
   ]
  },
  {
   "cell_type": "code",
   "execution_count": null,
   "id": "30f936fb-11fe-4230-a017-a45dbbbcd438",
   "metadata": {},
   "outputs": [],
   "source": [
    "Q7. For the two given sets A = (2,3,4,5,6,7) & B = (0,2,6,8,10). Find:\n",
    "(i) A intersection B\n",
    "(ii) A ⋃ B\n",
    "\n",
    "Ans-(i) A intersection B-(0,3,4,5,6,7)\n",
    "    (ii) A ⋃ B-(0,2,3,4,5,6,7,8,10)"
   ]
  },
  {
   "cell_type": "code",
   "execution_count": null,
   "id": "d956c73f-42d9-4e0d-ad35-eb6ef276c112",
   "metadata": {},
   "outputs": [],
   "source": [
    "Q8. What do you understand about skewness in data?\n",
    "\n",
    "Ans-Skewness is the measure of the asymmetry of an ideally symmetric probability distribution and is given by the \n",
    "third standardized moment. If that sounds way too complex, don’t worry! Let me break it down for you.\n",
    "In simple words, skewness is the measure of how much the probability distribution of a random variable deviates \n",
    "from the normal distribution."
   ]
  },
  {
   "cell_type": "code",
   "execution_count": null,
   "id": "f58d288c-9e4c-4d2a-9c51-b321337ff16b",
   "metadata": {},
   "outputs": [],
   "source": [
    "Q9. If a data is right skewed then what will be the position of median with respect to mean?\n",
    "\n",
    "Ans-In right skewed the position of median is smaller than or equal  with respect to the mean."
   ]
  },
  {
   "cell_type": "code",
   "execution_count": null,
   "id": "152c9788-f569-48c3-a142-c4e79d9d7c19",
   "metadata": {},
   "outputs": [],
   "source": [
    "Q10. Explain the difference between covariance and correlation. How are these measures used in\n",
    "statistical analysis?\n",
    "\n",
    "Ans-Covariance reveals how two variables change together while correlation determines how closely two variables are\n",
    "related to each other.\n",
    "Both covariance and correlation measure the relationship and the dependency between two variables.\n",
    "Covariance indicates the direction of the linear relationship between variables.\n",
    "Correlation measures both the strength and direction of the linear relationship between two variables.\n",
    "Correlation values are standardized.\n",
    "Covariance values are not standardized.\n"
   ]
  },
  {
   "cell_type": "code",
   "execution_count": null,
   "id": "a60a3cd6-1add-4c5b-bb98-51c85decea4f",
   "metadata": {},
   "outputs": [],
   "source": [
    "Q11. What is the formula for calculating the sample mean? Provide an example calculation for a\n",
    "dataset.\n",
    "\n",
    "Ans-The sample mean formula is used to calculate the average value of the given sample data. \n",
    "     Sample Mean = (Sum of terms) ÷ (Number of Terms)\n",
    "    \n",
    "Example: Find the sample mean of 60, 57, 109, 50.\n",
    "\n",
    "Solution: \n",
    "\n",
    "To find: Sample mean\n",
    "Sum of terms = 60 + 57 + 109 + 50 = 276\n",
    "Number of terms = 4\n",
    "Using sample mean formula,\n",
    "mean = (sum of terms)/(number of terms)\n",
    "mean = 276/4 = 69\n",
    "\n",
    "Answer: The sample mean of 60, 57, 109, 50 is  69."
   ]
  },
  {
   "cell_type": "code",
   "execution_count": null,
   "id": "ff7dbe9d-c1e2-4a34-93ff-7d04be8b7ca9",
   "metadata": {},
   "outputs": [],
   "source": [
    "Q12. For a normal distribution data what is the relationship between its measure of central tendency?\n",
    "\n",
    "Ans-Any normal distribution has a graph that is perfectly symmetric about a vertical line through its peak. Therefore, all measures of central\n",
    "tendency (most commonly, the mean, median, and mode) give the same answer: the \n",
    "x-value of the peak."
   ]
  },
  {
   "cell_type": "code",
   "execution_count": null,
   "id": "16d8f0d9-62b7-4bf3-ad92-03f705d3703e",
   "metadata": {},
   "outputs": [],
   "source": [
    "Q13. How is covariance different from correlation?\n",
    "\n",
    "Ans-Covariance and correlation are two terms that are opposed and are both used in statistics and regression analysis. Covariance shows you how the \n",
    "two variables differ, whereas correlation shows you how the two variables are related. Here, in this tutorial, you will explore covariance and\n",
    "correlation, which will help you understand the difference between covariance and correlation."
   ]
  },
  {
   "cell_type": "code",
   "execution_count": null,
   "id": "9476be37-ebfa-4544-9e9e-5c85dfce742e",
   "metadata": {},
   "outputs": [],
   "source": [
    "Q14. How do outliers affect measures of central tendency and dispersion? Provide an example.\n",
    "\n",
    "Ans-When a outlier is present it can effect the shape of the graph, if we have outliers to the right of the graph. These outliers are causing the \n",
    "mean to increase, but if we have outliers to the left of the graph these outliers are dragging down the mean. This causes a conflict because the mean\n",
    "no longer provides a good representation of the data, alternatively we would much rather use the median. The median on the other hand is less likely \n",
    "to be affect by outliers.\n",
    "\n",
    "Eg\n",
    "Let's examine what can happen to a data set with outliers. For the sample data set:\n",
    "\n",
    "1, 1, 2, 2, 2, 2, 3, 3, 3, 4, 4\n",
    "\n",
    "We find the following mean, median, mode, and standard deviation:\n",
    "\n",
    "Mean = 2.58\n",
    "\n",
    "Median = 2.5\n",
    "\n",
    "Mode = 2\n",
    "\n",
    "Standard Deviation = 1.08\n",
    "\n",
    "If we add an outlier to the data set:\n",
    "\n",
    "1, 1, 2, 2, 2, 2, 3, 3, 3, 4, 4, 400\n",
    "\n",
    "The new values of our statistics are:\n",
    "\n",
    "Mean = 35.38\n",
    "\n",
    "Median = 2.5\n",
    "\n",
    "Mode = 2\n",
    "\n",
    "Standard Deviation = 114.74\n",
    "\n",
    "As we can see, having outliers often has a significant effect on our mean and standard deviation. Because of this, we must take steps to remove\n",
    "outliers from our data sets."
   ]
  }
 ],
 "metadata": {
  "kernelspec": {
   "display_name": "Python 3 (ipykernel)",
   "language": "python",
   "name": "python3"
  },
  "language_info": {
   "codemirror_mode": {
    "name": "ipython",
    "version": 3
   },
   "file_extension": ".py",
   "mimetype": "text/x-python",
   "name": "python",
   "nbconvert_exporter": "python",
   "pygments_lexer": "ipython3",
   "version": "3.10.8"
  }
 },
 "nbformat": 4,
 "nbformat_minor": 5
}
