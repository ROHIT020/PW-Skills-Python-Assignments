{
 "cells": [
  {
   "cell_type": "markdown",
   "id": "12edaaf8-cad7-4903-b1f6-c0435ad10026",
   "metadata": {},
   "source": [
    "Q1. What is Abstraction in OOps? Explain with an example."
   ]
  },
  {
   "cell_type": "markdown",
   "id": "e97f6b85-7ea4-4cae-a380-e87bb5b32362",
   "metadata": {},
   "source": [
    "Abstraction in python is defined as a process of handling complexity by hiding unnecessary information from the user. This is one of the core concepts of object-oriented programming (OOP) languages. That enables the user to implement even more complex logic on top of the provided abstraction without understanding or even thinking about all the hidden background/back-end complexity."
   ]
  },
  {
   "cell_type": "code",
   "execution_count": 1,
   "id": "740ccd8d-175c-4af2-9e45-8dc08452f8ca",
   "metadata": {},
   "outputs": [
    {
     "name": "stdout",
     "output_type": "stream",
     "text": [
      "The average is 20kmph\n",
      "The average is 22kmph\n",
      "The average is 24kmph\n",
      "The average is 27kmph\n"
     ]
    }
   ],
   "source": [
    "from abc import ABC,abstractmethod\n",
    "class Car(ABC):\n",
    "    def average(self):\n",
    "        pass\n",
    "class Honda(Car):\n",
    "    def average(self):\n",
    "        print(\"The average is 20kmph\")\n",
    "class Maruti(Car):\n",
    "    def average(self):\n",
    "        print(\"The average is 22kmph\")\n",
    "class Seltos(Car):\n",
    "    def average(self):\n",
    "        print(\"The average is 24kmph\")\n",
    "class Renault(Car):\n",
    "    def average(self):\n",
    "        print(\"The average is 27kmph\")\n",
    "        \n",
    "        \n",
    "#Driver Code\n",
    "h=Honda()\n",
    "h.average()\n",
    "\n",
    "m=Maruti()\n",
    "m.average()\n",
    "\n",
    "s=Seltos()\n",
    "s.average()\n",
    "\n",
    "r=Renault()\n",
    "r.average()\n",
    "\n"
   ]
  },
  {
   "cell_type": "markdown",
   "id": "ea886b0a-8b25-424b-86cd-ed025191d431",
   "metadata": {},
   "source": [
    "Q2>Differentiate between Abstraction and Encapsulation. Explain with an example.\n"
   ]
  },
  {
   "cell_type": "markdown",
   "id": "18c31469-d814-4bde-96be-172763a5b8a8",
   "metadata": {},
   "source": [
    "Abstraction is the process or method of gaining the information. While encapsulation is the process or method to contain the information. In abstraction, problems are solved at the design or interface level. While in encapsulation, problems are solved at the implementation level."
   ]
  },
  {
   "cell_type": "markdown",
   "id": "7a0c3c43-d899-4247-9b6b-4e29574f385d",
   "metadata": {},
   "source": [
    "Q3. What is abc module in python? Why is it used?"
   ]
  },
  {
   "cell_type": "markdown",
   "id": "4479443a-9847-4c04-a834-795dfef4c8cd",
   "metadata": {},
   "source": [
    "The 'abc' module in Python library provides the infrastructure for defining custom abstract base classes.\n",
    "\n",
    "'abc' works by marking methods of the base class as abstract. This is done by @absttractmethod decorator. A concrete class which is a sub class of such abstract base class then implements the abstract base by overriding its abstract methods.\n",
    "The abc module provides a way to create abstract base classes in Python by using the ABC class, as well as several decorators and methods to define abstract methods and properties."
   ]
  },
  {
   "cell_type": "markdown",
   "id": "f491c451-bed4-4a66-88b3-0f9b934cdc67",
   "metadata": {},
   "source": [
    "Q4. How can we achieve data abstraction?"
   ]
  },
  {
   "cell_type": "markdown",
   "id": "c01c90a7-35df-41f6-8fd4-3cca2fcac2c8",
   "metadata": {},
   "source": [
    "Data abstraction is a programming concept that allows you to define the interface of an object without revealing the underlying implementation details. In other words, it provides a way to separate the implementation details of an object from the way it is used by other objects."
   ]
  },
  {
   "cell_type": "markdown",
   "id": "d1960157-1c71-47e2-8535-8558e63539c3",
   "metadata": {},
   "source": [
    "There are several ways to achieve data abstraction in programming:"
   ]
  },
  {
   "cell_type": "markdown",
   "id": "76de17af-1726-43ed-83a4-e7fe6bbf1825",
   "metadata": {},
   "source": [
    "Abstraction through classes: One of the most common ways to achieve data abstraction is through the use of classes. In object-oriented programming, classes provide a way to define objects with certain properties and methods, but hide the underlying implementation details from the rest of the code. For example, you can define a class with public methods that expose its behavior, but keep the implementation details private."
   ]
  },
  {
   "cell_type": "markdown",
   "id": "4d250c09-768f-4076-8fbb-647858d58360",
   "metadata": {},
   "source": [
    "Interfaces: An interface is a collection of abstract methods that must be implemented by any class that implements the interface. Interfaces are used to define a common set of behaviors that can be implemented by different classes, without specifying the implementation details. For example, in Java, you can define an interface that specifies the methods that must be implemented by a class that implements the interface."
   ]
  },
  {
   "cell_type": "markdown",
   "id": "214c853a-f300-43dd-8283-e5f8d98fe30c",
   "metadata": {},
   "source": [
    "Modules: In some programming languages, like Python, you can use modules to define a set of related functions and variables, and hide the implementation details behind a well-defined interface. Modules provide a way to encapsulate the implementation details of a set of functions, and expose them to the rest of the code through a simple API."
   ]
  },
  {
   "cell_type": "markdown",
   "id": "ab4345a0-aa5d-48e5-b912-b80934c687e1",
   "metadata": {},
   "source": [
    "Information hiding: Information hiding is a programming concept that involves hiding the implementation details of an object or function behind a well-defined interface. Information hiding is used to protect the internal state of an object from being modified by external code, and to provide a clear and well-defined way for other objects to interact with the object."
   ]
  },
  {
   "cell_type": "code",
   "execution_count": null,
   "id": "e89eb83d-298e-4aa1-ad80-7a3b4d5c6a7e",
   "metadata": {},
   "outputs": [],
   "source": []
  }
 ],
 "metadata": {
  "kernelspec": {
   "display_name": "Python 3 (ipykernel)",
   "language": "python",
   "name": "python3"
  },
  "language_info": {
   "codemirror_mode": {
    "name": "ipython",
    "version": 3
   },
   "file_extension": ".py",
   "mimetype": "text/x-python",
   "name": "python",
   "nbconvert_exporter": "python",
   "pygments_lexer": "ipython3",
   "version": "3.10.8"
  }
 },
 "nbformat": 4,
 "nbformat_minor": 5
}
