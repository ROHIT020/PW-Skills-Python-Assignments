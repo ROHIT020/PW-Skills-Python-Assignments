{
 "cells": [
  {
   "cell_type": "markdown",
   "id": "ff35c609-9f85-4a8a-8252-6015d087090e",
   "metadata": {},
   "source": [
    "Q1. Create a vehicle class with an init method having instance variables as name_of_vehicle, max_speed\n",
    "and average_of_vehicle."
   ]
  },
  {
   "cell_type": "code",
   "execution_count": null,
   "id": "c0036322-cbc1-492c-a704-7c5cca2be573",
   "metadata": {},
   "outputs": [
    {
     "name": "stdout",
     "output_type": "stream",
     "text": [
      "Hyundai i20\n",
      "200\n",
      "20\n"
     ]
    }
   ],
   "source": [
    "class Vehicle:\n",
    "    def __init__(self,name_of_vehicle,max_speed,average_of_vehicle):\n",
    "        self.name_of_vehicle=name_of_vehicle\n",
    "        self.max_speed=max_speed\n",
    "        self.average_of_vehicle=average_of_vehicle\n",
    "        \n",
    "car=Vehicle(\"Hyundai i20\",200,20)\n",
    "print(car.name_of_vehicle)\n",
    "print(car.max_speed)\n",
    "print(car.average_of_vehicle)"
   ]
  },
  {
   "cell_type": "markdown",
   "id": "24f09bf4-31c2-4f1a-b748-d2d13f2c0223",
   "metadata": {},
   "source": [
    "Q2. Create a child class car from the vehicle class created in Que 1, which will inherit the vehicle class.\n",
    "Create a method named seating_capacity which takes capacity as an argument and returns the name of\n",
    "the vehicle and its seating capacity."
   ]
  },
  {
   "cell_type": "code",
   "execution_count": 7,
   "id": "0fd2e86a-e91d-4693-a623-e6caed436b93",
   "metadata": {},
   "outputs": [
    {
     "name": "stdout",
     "output_type": "stream",
     "text": [
      "The Hyundai i20 has a seating capacity of 5.\n"
     ]
    }
   ],
   "source": [
    "class Car(Vehicle):\n",
    "    def seating_capacity(self,capacity):\n",
    "        return f\"The {self.name_of_vehicle} has a seating capacity of {capacity}.\"\n",
    "    my_car=Car(\"Hyundai i20\",180,18)\n",
    "    print(my_car.seating_capacity(5))\n"
   ]
  },
  {
   "cell_type": "markdown",
   "id": "bb88c5cd-5ef7-46a8-b549-286b23832d42",
   "metadata": {},
   "source": [
    "Q3. What is multiple inheritance? Write a python code to demonstrate multiple inheritance."
   ]
  },
  {
   "cell_type": "markdown",
   "id": "949619d9-d266-4f8e-9c90-b4d13adf0d81",
   "metadata": {},
   "source": [
    "Ans> Multiple Inheritance is a feature of object-oriented prog. that allows a class to inherit\n",
    "attributes and behaviour from multiple parents classes.This  allows for greater flexibility and\n",
    "code reusability, as a single class can inherit the characterstics of multiple existing classes."
   ]
  },
  {
   "cell_type": "code",
   "execution_count": 12,
   "id": "e5a6f1d0-471b-4807-b309-ac99fd6a8780",
   "metadata": {},
   "outputs": [
    {
     "name": "stdout",
     "output_type": "stream",
     "text": [
      "Engine started.\n",
      "Fuel tank is filled with 60 litres.\n",
      "Car is driving.\n"
     ]
    }
   ],
   "source": [
    "class Engine:\n",
    "    def start(self):\n",
    "        return \"Engine started.\"\n",
    "    \n",
    "class FuelSystem:\n",
    "    def fill_fuel(self,fuel_amount):\n",
    "        return f\"Fuel tank is filled with {fuel_amount} litres.\"\n",
    "\n",
    "class Car(Engine,FuelSystem):\n",
    "    def drive(self):\n",
    "        return \"Car is driving.\"\n",
    "my_car=Car()\n",
    "print(my_car.start())\n",
    "print(my_car.fill_fuel(60))\n",
    "print(my_car.drive())"
   ]
  },
  {
   "cell_type": "markdown",
   "id": "6c2b219d-5c1d-450e-b106-9c9f49b75cb2",
   "metadata": {},
   "source": [
    "Q4. What are getter and setter in python? Create a class and create a getter and a setter method in this\n",
    "class."
   ]
  },
  {
   "cell_type": "markdown",
   "id": "4cfde3a7-54cd-4b7d-b07f-a4374f979210",
   "metadata": {},
   "source": [
    "Ans>Getter and Setter are methods in oops that allows us to control the access to the\n",
    "attributes of an object.A getter method is used to retrieve the value of an attribute,while a setter \n",
    "method is used to set the value of an attribute."
   ]
  },
  {
   "cell_type": "code",
   "execution_count": 18,
   "id": "e4de3309-2de5-4011-8c20-7b82920e4c71",
   "metadata": {},
   "outputs": [
    {
     "name": "stdout",
     "output_type": "stream",
     "text": [
      "Rohit Kumar\n",
      "Raman Singh\n",
      "22\n",
      "25\n"
     ]
    }
   ],
   "source": [
    "class Person:\n",
    "    def __init__(self, name, age):\n",
    "        self._name = name\n",
    "        self._age = age\n",
    "\n",
    "    @property\n",
    "    def name(self):\n",
    "        return self._name\n",
    "\n",
    "    @name.setter\n",
    "    def name(self, value):\n",
    "        if not isinstance(value, str):\n",
    "            raise TypeError(\"Name must be a string.\")\n",
    "        self._name = value\n",
    "\n",
    "    @property\n",
    "    def age(self):\n",
    "        return self._age\n",
    "\n",
    "    @age.setter\n",
    "    def age(self, value):\n",
    "        if not isinstance(value, int):\n",
    "            raise TypeError(\"Age must be an integer.\")\n",
    "        self._age = value\n",
    "\n",
    "person=Person(\"Rohit Kumar\",22)\n",
    "print(person.name)\n",
    "person.name=\"Raman Singh\"\n",
    "print(person.name)\n",
    "print(person.age)\n",
    "person.age=25\n",
    "print(person.age)"
   ]
  },
  {
   "cell_type": "code",
   "execution_count": null,
   "id": "048093a6-01c3-4382-b014-a3b5c4efcafe",
   "metadata": {},
   "outputs": [],
   "source": []
  },
  {
   "cell_type": "code",
   "execution_count": null,
   "id": "29d4ef2d-91c7-4bea-aee4-4c9f15e32f2b",
   "metadata": {},
   "outputs": [],
   "source": []
  },
  {
   "cell_type": "code",
   "execution_count": null,
   "id": "6c732b62-3771-46a6-8e0e-0e43a6ce083e",
   "metadata": {},
   "outputs": [],
   "source": []
  },
  {
   "cell_type": "code",
   "execution_count": null,
   "id": "4fa96929-99ad-477c-a14b-31543d0f64d0",
   "metadata": {},
   "outputs": [],
   "source": []
  }
 ],
 "metadata": {
  "kernelspec": {
   "display_name": "Python 3 (ipykernel)",
   "language": "python",
   "name": "python3"
  },
  "language_info": {
   "codemirror_mode": {
    "name": "ipython",
    "version": 3
   },
   "file_extension": ".py",
   "mimetype": "text/x-python",
   "name": "python",
   "nbconvert_exporter": "python",
   "pygments_lexer": "ipython3",
   "version": "3.10.8"
  }
 },
 "nbformat": 4,
 "nbformat_minor": 5
}
