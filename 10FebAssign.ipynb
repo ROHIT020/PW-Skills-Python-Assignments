{
 "cells": [
  {
   "cell_type": "markdown",
   "id": "028c79eb-25c3-4fb8-933f-6cb8c9433001",
   "metadata": {},
   "source": [
    "1-Which function is used to open a file? What are the different modes of opening a file? Explain each mode of file opening."
   ]
  },
  {
   "cell_type": "markdown",
   "id": "8b22a7be-1ccc-4f08-af7b-2494e6af5842",
   "metadata": {},
   "source": [
    "The open() function is used to open a file in Python. When you open a file, you can specify the mode in which you want to open it. The different modes of opening a file in Python are:\n",
    "\n",
    "'r' (read mode) - This mode is used when you only want to read the contents of a file. When you open a file in read mode, you cannot write to it or make any changes to it. If the file does not exist, a FileNotFoundError will be raised.\n",
    "\n",
    "'w' (write mode) - This mode is used when you want to write to a file. If the file already exists, its contents will be overwritten. If the file does not exist, a new file will be created.\n",
    "\n",
    "'a' (append mode) - This mode is used when you want to add new content to the end of an existing file. If the file does not exist, a new file will be created. In append mode, you can only write to the end of the file, and not anywhere else.\n",
    "\n",
    "'x' (exclusive creation mode) - This mode is used when you want to create a new file and write to it, but only if the file does not already exist. If the file already exists, a FileExistsError will be raised.\n",
    "\n",
    "'b' (binary mode) - This mode is used when you want to read or write binary data to a file. When opening a file in binary mode, you should use 'rb' to read binary data and 'wb' to write binary data.\n",
    "\n",
    "'t' (text mode) - This mode is used when you want to read or write text data to a file. When opening a file in text mode, you should use 'rt' to read text data and 'wt' to write text data.\n",
    "\n",
    "You can combine these modes when opening a file, for example: 'rb' to open a binary file in read mode, 'wt' to open a text file in write mode, etc. The default mode is 'rt' (read text mode) if no mode is specified."
   ]
  },
  {
   "cell_type": "markdown",
   "id": "f79de16b-6f2f-4670-afcc-79401a9890b2",
   "metadata": {},
   "source": [
    "2-Why close() function is used? Why is it important to close a file?"
   ]
  },
  {
   "cell_type": "markdown",
   "id": "b7cefcce-7c04-4073-8fac-f4716bed5704",
   "metadata": {},
   "source": [
    "The close() function is used to close an open file. When a file is opened in Python using the open function, the operating system reserves some resources to handle the file. This can include memory, disk space, file handles, etc. When you are done with a file and no longer need to read from or write to it, it is important to close it so that these resources can be released and made available for other applications.\n",
    "\n",
    "In addition to freeing up resources, closing a file also ensures that any changes you made to the file are saved and written to disk. This makes it a good practice to close a file after you have finished using it.\n",
    "\n",
    "If you forget to close a file, the operating system will eventually release the resources that were reserved for it when the Python process ends. However, it's still a good idea to close files explicitly, as it makes the intent of your code more clear and reduces the chance of resource leaks or other unintended consequences."
   ]
  },
  {
   "cell_type": "markdown",
   "id": "907c9797-64fc-4143-9ca1-3909c445f56f",
   "metadata": {},
   "source": [
    "3-Write a python program to create a text file. Write ‘I want to become a Data Scientist’ in that file. Then close the file. Open this file and read the content of the file."
   ]
  },
  {
   "cell_type": "code",
   "execution_count": 2,
   "id": "ff49ddc7-6cd0-40c7-b2ce-e4b8a19194c3",
   "metadata": {},
   "outputs": [
    {
     "name": "stdout",
     "output_type": "stream",
     "text": [
      "I want to become a data scientist\n"
     ]
    }
   ],
   "source": [
    "# create a text file\n",
    "file=open(\"textfile.txt\",\"w\")\n",
    "\n",
    "# write to the file\n",
    "file.write(\"I want to become a data scientist\")\n",
    "\n",
    "# open the file in read mode\n",
    "file=open(\"textfile.txt\",\"r\")\n",
    "\n",
    "# read the contents of the file\n",
    "content=file.read()\n",
    "\n",
    "# print the contents of the file\n",
    "print(content)\n",
    "\n",
    "# close the file\n",
    "file.close()"
   ]
  },
  {
   "cell_type": "markdown",
   "id": "de0eac42-beb9-4ce4-8e9f-eb6996b56bd8",
   "metadata": {},
   "source": [
    "4-Explain the following with python code: read(), readline() and readlines()."
   ]
  },
  {
   "cell_type": "markdown",
   "id": "a7f24a2e-26e2-4f41-9159-0a2931a05af1",
   "metadata": {},
   "source": [
    "read(): The read() method reads the entire contents of a file and returns it as a single string\n",
    "\n",
    "readline(): The readline() method reads one line of the file at a time and returns it as a string.\n",
    "\n",
    "readlines(): The readlines() method reads all the lines of the file and returns them as a list of strings, where each string is a line of the file"
   ]
  },
  {
   "cell_type": "markdown",
   "id": "e19e60f5-080e-4623-96d9-b72286fa966e",
   "metadata": {},
   "source": [
    "5-Explain why with statement is used with open(). What is the advantage of using with statement and open() together?"
   ]
  },
  {
   "cell_type": "markdown",
   "id": "7d1f7a25-d499-4f7c-ae41-e28f0ab48da2",
   "metadata": {},
   "source": [
    "In Python, the with statement is often used with the open function to handle files. The with statement provides a convenient way to manage the resources that a program uses, including files.\n",
    "\n",
    "When you open a file with the open function, you need to close the file after you're done with it. If you forget to close the file, it can cause problems, such as data corruption or resource leaks.\n",
    "\n",
    "The with statement provides a convenient way to ensure that resources are properly managed. When you use the with statement with the open function, you don't have to worry about manually closing the file. The with statement automatically closes the file for you, even if an exception is raised within the with block."
   ]
  },
  {
   "cell_type": "markdown",
   "id": "02458b7f-9c2f-4596-b1fe-af1dc1cbcc2a",
   "metadata": {},
   "source": [
    "6-Explain the write() and writelines() functions. Give a suitable example."
   ]
  },
  {
   "cell_type": "markdown",
   "id": "5a0331ce-8776-4b98-836b-14f62e54fd5d",
   "metadata": {},
   "source": [
    "write(): The write() function is used to write a string to a file.\n",
    "\n",
    "writelines(): The writelines() function is used to write a list of strings to a file."
   ]
  },
  {
   "cell_type": "code",
   "execution_count": null,
   "id": "9b4fb7e3-355b-436b-84c7-6faa553eb661",
   "metadata": {},
   "outputs": [],
   "source": []
  }
 ],
 "metadata": {
  "kernelspec": {
   "display_name": "Python 3 (ipykernel)",
   "language": "python",
   "name": "python3"
  },
  "language_info": {
   "codemirror_mode": {
    "name": "ipython",
    "version": 3
   },
   "file_extension": ".py",
   "mimetype": "text/x-python",
   "name": "python",
   "nbconvert_exporter": "python",
   "pygments_lexer": "ipython3",
   "version": "3.10.8"
  }
 },
 "nbformat": 4,
 "nbformat_minor": 5
}
