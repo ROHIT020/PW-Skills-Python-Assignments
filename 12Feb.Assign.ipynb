{
 "cells": [
  {
   "cell_type": "markdown",
   "id": "07392ae5-2179-420d-8b06-4919afec1af5",
   "metadata": {},
   "source": [
    "Q1. What is an Exeption in python? Write the difference between Exceptions and syntax errors?\n",
    "\n",
    "An exception in Python is an error that occurs during the execution of a program. It may be due to various reasons such as invalid input, division by zero, out of memory, or trying to access an undefined variable. When an exception occurs, the normal flow of the program is disrupted, and the program terminates.\n",
    "\n",
    "The key difference between exceptions and syntax errors is that exceptions occur during the execution of a program, while syntax errors occur before the program is executed. Additionally, exceptions can be handled and resolved programmatically, while syntax errors must be fixed manually by the programmer."
   ]
  },
  {
   "cell_type": "markdown",
   "id": "34b145f8-fa0c-42ab-83e4-9efe8b963c1b",
   "metadata": {},
   "source": [
    "Q2. What happens when an exception is not handled? Explain with an example\n",
    "\n",
    "When an exception is not handled, the program terminates abruptly and generates a traceback, which is a detailed report of the error that occurred. The traceback provides information about the line of code where the error occurred, the type of error, and a description of the error."
   ]
  },
  {
   "cell_type": "code",
   "execution_count": 3,
   "id": "bffa5fcc-10a9-49da-a90f-4b95c21dfc00",
   "metadata": {},
   "outputs": [
    {
     "name": "stdout",
     "output_type": "stream",
     "text": [
      "9.0\n"
     ]
    },
    {
     "ename": "ZeroDivisionError",
     "evalue": "division by zero",
     "output_type": "error",
     "traceback": [
      "\u001b[0;31m---------------------------------------------------------------------------\u001b[0m",
      "\u001b[0;31mZeroDivisionError\u001b[0m                         Traceback (most recent call last)",
      "Cell \u001b[0;32mIn[3], line 6\u001b[0m\n\u001b[1;32m      3\u001b[0m     \u001b[38;5;28;01mreturn\u001b[39;00m outcome\n\u001b[1;32m      5\u001b[0m \u001b[38;5;28mprint\u001b[39m(divide(\u001b[38;5;241m45\u001b[39m, \u001b[38;5;241m5\u001b[39m))\n\u001b[0;32m----> 6\u001b[0m \u001b[38;5;28mprint\u001b[39m(\u001b[43mdivide\u001b[49m\u001b[43m(\u001b[49m\u001b[38;5;241;43m40\u001b[39;49m\u001b[43m,\u001b[49m\u001b[43m \u001b[49m\u001b[38;5;241;43m0\u001b[39;49m\u001b[43m)\u001b[49m)\n",
      "Cell \u001b[0;32mIn[3], line 2\u001b[0m, in \u001b[0;36mdivide\u001b[0;34m(a, b)\u001b[0m\n\u001b[1;32m      1\u001b[0m \u001b[38;5;28;01mdef\u001b[39;00m \u001b[38;5;21mdivide\u001b[39m(a, b):\n\u001b[0;32m----> 2\u001b[0m     outcome \u001b[38;5;241m=\u001b[39m \u001b[43ma\u001b[49m\u001b[38;5;241;43m/\u001b[39;49m\u001b[43m \u001b[49m\u001b[43mb\u001b[49m\n\u001b[1;32m      3\u001b[0m     \u001b[38;5;28;01mreturn\u001b[39;00m outcome\n",
      "\u001b[0;31mZeroDivisionError\u001b[0m: division by zero"
     ]
    }
   ],
   "source": [
    "def divide(a, b):\n",
    "    outcome = a/ b\n",
    "    return outcome\n",
    "\n",
    "print(divide(45, 5))\n",
    "print(divide(40, 0))"
   ]
  },
  {
   "cell_type": "markdown",
   "id": "9c22c59c-fa82-4b92-952a-dafe81fa0fc3",
   "metadata": {},
   "source": [
    "Q3. Which Python statements are used to catch and handle exceptions? Explain with an example\n",
    "\n",
    "In Python, exceptions can be caught and handled using the try and except statements. The try block contains the code that might raise an exception, and the except block contains the code that will handle the exception if it occurs.\n",
    "\n",
    "Here is an example of how to use the try and except statements to handle a ZeroDivisionError exception:"
   ]
  },
  {
   "cell_type": "code",
   "execution_count": 7,
   "id": "9fb12eab-c1fd-45e2-845e-cb894f71b596",
   "metadata": {},
   "outputs": [
    {
     "name": "stdout",
     "output_type": "stream",
     "text": [
      "2.0\n",
      "It cannot be divided by zero\n",
      "None\n"
     ]
    }
   ],
   "source": [
    "def divide(x,y):\n",
    "    try:\n",
    "        result=x/y\n",
    "    except ZeroDivisionError:\n",
    "            print(\"It cannot be divided by zero\")\n",
    "    else:\n",
    "                return result\n",
    "print(divide(10,5))\n",
    "print(divide(10,0))"
   ]
  },
  {
   "cell_type": "markdown",
   "id": "5deb864a-defe-4f6f-a577-49a39361ef2e",
   "metadata": {},
   "source": [
    "Q4. Explain with an example:#\n",
    "\n",
    "try and else\n",
    "finally\n",
    "raise"
   ]
  },
  {
   "cell_type": "code",
   "execution_count": 8,
   "id": "07335914-4e96-41e2-a612-272d9e08948c",
   "metadata": {},
   "outputs": [
    {
     "name": "stdout",
     "output_type": "stream",
     "text": [
      "2.0\n",
      "5.0\n"
     ]
    }
   ],
   "source": [
    "# try and else statements can be used in combination to handle exceptions in Python. The else block is executed if no exceptions are raised in the try block.\n",
    "\n",
    "def divide(x,y):\n",
    "    try:\n",
    "        result=x/y\n",
    "    except ZeroDivisionError:\n",
    "        print(\"Cannot be divide by zero\")\n",
    "    else:\n",
    "        return result\n",
    "print(divide(10,5))\n",
    "print(divide(10,2))"
   ]
  },
  {
   "cell_type": "code",
   "execution_count": 9,
   "id": "67c92f9e-7337-44e2-bde8-3ebac587c188",
   "metadata": {},
   "outputs": [
    {
     "name": "stdout",
     "output_type": "stream",
     "text": [
      "Executing finally block\n",
      "2.0\n",
      "Cannot be divided by zero\n",
      "Executing finally block\n",
      "None\n"
     ]
    }
   ],
   "source": [
    "#The finally statement in Python is used to specify a block of code that should be executed regardless of whether an exception occurs or not. The code in the finally block is guaranteed to be executed, even if an exception is raised and not caught in the try block.\n",
    "\n",
    "def divide(x,y):\n",
    "    try:\n",
    "        result=x/y\n",
    "    except ZeroDivisionError:\n",
    "        print(\"Cannot be divided by zero\")\n",
    "        result=None\n",
    "    finally:\n",
    "        print(\"Executing finally block\")\n",
    "        return result\n",
    "print(divide(10,5))\n",
    "print(divide(10,0))"
   ]
  },
  {
   "cell_type": "code",
   "execution_count": 14,
   "id": "a1f2d992-252f-42b5-a691-737532aac1e3",
   "metadata": {},
   "outputs": [
    {
     "name": "stdout",
     "output_type": "stream",
     "text": [
      "5.0\n",
      "Cannot divided by zero\n"
     ]
    }
   ],
   "source": [
    "#The raise statement in Python is used to raise an exception explicitly. It is used to indicate that an error has occurred and to stop the normal execution of the program.\n",
    "\n",
    "def divide(x,y):\n",
    "    if y==0:\n",
    "        raise ZeroDivisionError(\"Cannot divided by zero\")\n",
    "    return x/y\n",
    "try:\n",
    "    print(divide(30,6))\n",
    "    print(divide(10,0))\n",
    "except ZeroDivisionError as e:\n",
    "    print(e)\n",
    "      \n",
    "    "
   ]
  },
  {
   "cell_type": "markdown",
   "id": "ecbf36f1-7367-4273-ae67-ffc77b67d02f",
   "metadata": {},
   "source": [
    "Q5. What are Custom Exceptions in python? What do we need Custom Exceptions ? Explain in with an example"
   ]
  },
  {
   "cell_type": "markdown",
   "id": "4f3b5ba3-8ebd-4901-ab78-2bebf5ba1625",
   "metadata": {},
   "source": [
    "Custom exceptions are user-defined exceptions in Python. They allow you to define specific types of exceptions for your application, so you can handle errors and exceptions in a more organized and meaningful way.\n",
    "\n",
    "For example, consider a scenario where you are writing a library that performs some mathematical calculations. In this library, you may encounter several different types of errors, such as invalid input, overflow, and divide-by-zero errors. You could handle these errors by raising built-in exceptions, such as ValueError or ZeroDivisionError, but it may not provide enough context or information about the error that has occurred.\n",
    "\n"
   ]
  },
  {
   "cell_type": "code",
   "execution_count": 16,
   "id": "ec25481f-290e-44b5-b672-fbdfd217bec0",
   "metadata": {},
   "outputs": [
    {
     "name": "stdout",
     "output_type": "stream",
     "text": [
      "2.0\n",
      "Input value must be positive\n",
      "None\n",
      "Cannot be divided by zero\n",
      "None\n"
     ]
    }
   ],
   "source": [
    "class InvalidInputError(Exception):\n",
    "    pass\n",
    "class OverflowError(Exception):\n",
    "    pass\n",
    "class DivideByZeroError(Exception):\n",
    "    pass\n",
    "\n",
    "def divide(x,y):\n",
    "    if y==0:\n",
    "        raise DivideByZeroError(\"Cannot be divided by zero\")\n",
    "    return x/y\n",
    "def calculate(x,y):\n",
    "    try:\n",
    "        if x<0 or y<0:\n",
    "            raise InvalidInputError(\"Input value must be positive\")\n",
    "        result =divide(x,y)\n",
    "    except DivideByZeroError as d:\n",
    "        print(d)\n",
    "    except InvalidInputError as d:\n",
    "        print(d)\n",
    "    else:\n",
    "        return result\n",
    "print(calculate(10,5))\n",
    "print(calculate(-10,5))\n",
    "print(calculate(10,0))\n",
    "\n",
    "                                    "
   ]
  },
  {
   "cell_type": "markdown",
   "id": "8a8c2619-4e6d-411a-bd9f-94a1a689380a",
   "metadata": {},
   "source": [
    "Q6. Create a custom exception class. Use this class to handle an exception"
   ]
  },
  {
   "cell_type": "code",
   "execution_count": 17,
   "id": "f32c5df2-57a7-4709-98b2-96ad3e0c5865",
   "metadata": {},
   "outputs": [
    {
     "name": "stdout",
     "output_type": "stream",
     "text": [
      "5.0\n",
      "Cannot Divide by Zero\n"
     ]
    }
   ],
   "source": [
    "class CustomException(Exception):\n",
    "    pass\n",
    "def divide(x,y):\n",
    "    if y==0:\n",
    "        raise CustomException(\"Cannot Divide by Zero\")\n",
    "    return x/y\n",
    "try:\n",
    "    print(divide(10,2))\n",
    "    print(divide(10,0))\n",
    "except CustomException as e:\n",
    "    print(e)"
   ]
  },
  {
   "cell_type": "code",
   "execution_count": null,
   "id": "4b6ed1b1-121b-4eef-8359-d856b912ef1d",
   "metadata": {},
   "outputs": [],
   "source": []
  }
 ],
 "metadata": {
  "kernelspec": {
   "display_name": "Python 3 (ipykernel)",
   "language": "python",
   "name": "python3"
  },
  "language_info": {
   "codemirror_mode": {
    "name": "ipython",
    "version": 3
   },
   "file_extension": ".py",
   "mimetype": "text/x-python",
   "name": "python",
   "nbconvert_exporter": "python",
   "pygments_lexer": "ipython3",
   "version": "3.10.8"
  }
 },
 "nbformat": 4,
 "nbformat_minor": 5
}
