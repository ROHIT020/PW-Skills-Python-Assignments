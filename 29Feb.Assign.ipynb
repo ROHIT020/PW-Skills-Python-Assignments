{
 "cells": [
  {
   "cell_type": "code",
   "execution_count": 1,
   "id": "e11f6f32-050f-4fbc-9149-e3d6997f924e",
   "metadata": {},
   "outputs": [],
   "source": [
    "# 1-Who developed the Python programming language?\n",
    "\n",
    "# Ans-Python was developed by the Guido Van Rossum."
   ]
  },
  {
   "cell_type": "code",
   "execution_count": null,
   "id": "c563f415-530c-401f-a5dc-a57b014bb818",
   "metadata": {},
   "outputs": [],
   "source": [
    "# 2-Which type of programming does Python support?\n",
    "\n",
    "# Ans-In Python programming language,it supports both object oriented programming and structured type."
   ]
  },
  {
   "cell_type": "code",
   "execution_count": 2,
   "id": "3f34cbe0-f47f-4a0c-8dc4-a47cd81510cd",
   "metadata": {},
   "outputs": [],
   "source": [
    "# 3-Is python case sensitive when dealing with the identifiers?\n",
    "\n",
    "# Ans-Python is known as a case-sensitive language because it differentiates between uppercase and lowercase\n",
    "# characters during execution."
   ]
  },
  {
   "cell_type": "code",
   "execution_count": 3,
   "id": "56f6b4d9-e120-4b3b-bacf-a9f10644f0b5",
   "metadata": {},
   "outputs": [],
   "source": [
    "# 4-What is the correct extension of Python file?\n",
    "\n",
    "# Ans-The correct extension of python file is .py or .pyi"
   ]
  },
  {
   "cell_type": "code",
   "execution_count": 4,
   "id": "9f56b3c5-987c-414b-addf-1d632bbf6d12",
   "metadata": {},
   "outputs": [],
   "source": [
    "# 5-Is python code is compiled or interpreted?\n",
    "\n",
    "# Ans-Python is both compiled as well as an interpreted language, which means when we run a python code, it is\n",
    "#     first compiled and then interpreted line by line."
   ]
  },
  {
   "cell_type": "code",
   "execution_count": 5,
   "id": "64c02840-a8c1-427d-90ce-ac6d85600b9a",
   "metadata": {},
   "outputs": [],
   "source": [
    "# 6-Name the few block of codes to define the python language?\n",
    "\n",
    "# Ans-The following are blocks: a module, a function body, and a class definition. Each command typed\n",
    "#     interactively is a block. A script file is a code block. "
   ]
  },
  {
   "cell_type": "code",
   "execution_count": 6,
   "id": "a524451b-d9a2-4c39-940c-d6611dfe150a",
   "metadata": {},
   "outputs": [],
   "source": [
    "# 7-State the character used to give single line comments in Python?\n",
    "\n",
    "# Ans-In Python script, the symbol # indicates start of comment line. It is effective till the end of line in \n",
    "#     the editor."
   ]
  },
  {
   "cell_type": "code",
   "execution_count": 7,
   "id": "7d3fbd9e-ed51-4989-846a-5630cfb4c421",
   "metadata": {},
   "outputs": [],
   "source": [
    "# 8-Mention functions which can help us to find the version of python that we are currently working on?\n",
    "\n",
    "# Ans-The function sys.version can help us to find the version of python that we are currently working on. It\n",
    "#     also contains information on the build number and compiler used. "
   ]
  },
  {
   "cell_type": "code",
   "execution_count": 8,
   "id": "c0a845e0-2e0a-4e90-948c-60726aadbf03",
   "metadata": {},
   "outputs": [],
   "source": [
    "# 9-Python supports the creation of anonymous functions( functions that are not bound to a name) at runtime,\n",
    "#   using a constructor called--lambda."
   ]
  },
  {
   "cell_type": "code",
   "execution_count": 9,
   "id": "eb189f6d-2dd2-4b98-a736-eb512eca0bab",
   "metadata": {},
   "outputs": [],
   "source": [
    "# 10-What does pip stands for Python?\n",
    "\n",
    "# Ans-PIP is a package manager for Python packages, or modules if you like.\n",
    "#     A package contains all the files we need for a module.\n",
    "#     Modules are Python code libraries you can include in our project."
   ]
  },
  {
   "cell_type": "code",
   "execution_count": 10,
   "id": "6532fdb0-426b-4b83-bd43-1e4d7c40b88f",
   "metadata": {},
   "outputs": [],
   "source": [
    "# 11-Mention a few built in functions in python.\n",
    "\n",
    "# Ans-print( ) function\n",
    "#  type( ) function\n",
    "#  input( ) function\n",
    "#  abs( ) function\n",
    "#  pow( ) function\n",
    "#  dir( ) function\n",
    "#  sorted( ) function\n",
    "#  max( ) function\n",
    "#  round( ) function\n",
    "#  divmod( ) function\n",
    "#  id( ) function\n",
    "#  ord( ) function\n",
    "#  len( ) function\n",
    "#  sum( ) function"
   ]
  },
  {
   "cell_type": "code",
   "execution_count": 11,
   "id": "7e17b87a-6879-4238-95d5-8ade85e77fe8",
   "metadata": {},
   "outputs": [],
   "source": [
    "# 12-What is the maximum possible length of an identifier in Python?\n",
    "\n",
    "# Ans-Identifier can have a maximum length of 79 characters in Python. "
   ]
  },
  {
   "cell_type": "code",
   "execution_count": 12,
   "id": "334eb5e5-4e1a-42e9-ba8d-068d02e03a5a",
   "metadata": {},
   "outputs": [],
   "source": [
    "# 13-What are the benefits of using Python?\n",
    "\n",
    "# Ans-\n",
    "# Easy to Learn and Use\n",
    "# Mature and Supportive Python Community\n",
    "# Support from Renowned Corporate Sponsors\n",
    "# Hundreds of Python Libraries and Frameworks\n",
    "# Versatility, Efficiency, Reliability, and Speed\n",
    "# Big data, Machine Learning and Cloud Computing\n",
    "# First-choice Language\n",
    "# The Flexibility of Python Language\n",
    "# Use of python in academics\n",
    "# It is interpreted"
   ]
  },
  {
   "cell_type": "code",
   "execution_count": 13,
   "id": "c67bd9b9-1ba6-487d-bd22-c4cf42b7b713",
   "metadata": {},
   "outputs": [],
   "source": [
    "# 14-How is memory managed in Python?\n",
    " \n",
    "# Ans-Memory in Python is managed by Python private heap space. All Python objects and data structures are \n",
    "# located in a private heap. This private heap is taken care of by Python Interpreter itself, and a programmer \n",
    "# doesn’t have access to this private heap.\n",
    "# Python memory manager takes care of the allocation of Python private heap space.\n",
    "# Memory for Python private heap space is made available by Python’s in-built garbage collector, which recycles\n",
    "# and frees up all the unused memory."
   ]
  },
  {
   "cell_type": "code",
   "execution_count": 14,
   "id": "7956360a-800a-44bb-a810-60869a9a2e40",
   "metadata": {},
   "outputs": [],
   "source": [
    "# 15-How to install and how to set path variables on Windows?\n",
    "\n",
    "# Ans- Install it on your PC. Look for the location where PYTHON has been installed on your PC using \n",
    "# the following command on your command prompt: cmd python.\n",
    "# Then go to advanced system settings and add new variable and name it as PYTHON_NAME and paste the copied path.\n",
    "# Then look for the path variable, select it's value and select edit\n",
    "# Add a semicolon towards the end of the value if it's not present and then type %PYTHON_HOME%"
   ]
  },
  {
   "cell_type": "code",
   "execution_count": 15,
   "id": "66bccb1c-87ef-4dab-bfc8-0b2e46eb5a13",
   "metadata": {},
   "outputs": [],
   "source": [
    "# 16-Is indentation requires in python?\n",
    "\n",
    "# Ans-Python indentation refers to adding white space before a statement to a particular block of code.\n",
    "#     In another word, all the statements with the same space to the right, belong to the same code block.\n",
    "#     Indentation is a very important concept of Python because without properly indenting the Python code, \n",
    "#     you will end up seeing IndentationError and the code will not get compiled."
   ]
  }
 ],
 "metadata": {
  "kernelspec": {
   "display_name": "Python 3 (ipykernel)",
   "language": "python",
   "name": "python3"
  },
  "language_info": {
   "codemirror_mode": {
    "name": "ipython",
    "version": 3
   },
   "file_extension": ".py",
   "mimetype": "text/x-python",
   "name": "python",
   "nbconvert_exporter": "python",
   "pygments_lexer": "ipython3",
   "version": "3.10.8"
  }
 },
 "nbformat": 4,
 "nbformat_minor": 5
}
