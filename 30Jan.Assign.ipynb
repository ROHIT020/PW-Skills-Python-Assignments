{
 "cells": [
  {
   "cell_type": "code",
   "execution_count": 3,
   "id": "a33fb613-0edb-4467-8c43-4281a83ef0ed",
   "metadata": {},
   "outputs": [
    {
     "name": "stdin",
     "output_type": "stream",
     "text": [
      " 55\n"
     ]
    },
    {
     "name": "stdout",
     "output_type": "stream",
     "text": [
      "Your Grade is D\n"
     ]
    }
   ],
   "source": [
    "#1-Write a program to accept the percentage from the user and display the grade according to the given criteria.\n",
    "\n",
    "marks=int(input())\n",
    "\n",
    "if marks>90:\n",
    "    print(\"Your Grade is A\")\n",
    "elif marks>80 and marks<=9:\n",
    "    print(\"Your Grade is B\")\n",
    "elif marks>=60 and marks<=80:\n",
    "    print(\"Your Grade is C\")\n",
    "elif marks<60:\n",
    "    print(\"Your Grade is D\")\n",
    "else:\n",
    "    print(\"You are failed\")"
   ]
  },
  {
   "cell_type": "code",
   "execution_count": 3,
   "id": "e5a03cae-00f8-4596-aefd-327e3ef44d98",
   "metadata": {},
   "outputs": [
    {
     "name": "stdin",
     "output_type": "stream",
     "text": [
      "Enter the cost price of the bike 174000\n"
     ]
    },
    {
     "name": "stdout",
     "output_type": "stream",
     "text": [
      "26100.0 is the road tax to be paid\n"
     ]
    }
   ],
   "source": [
    "#2 Write a program to accept the cost price of a bike and display the road tax to be paid according to the given data\n",
    "\n",
    "cost_price=float(input(\"Enter the cost price of the bike\"))\n",
    "if cost_price>100000:\n",
    "    t=0.15\n",
    "elif cost_price>50000 and cost_price<=100000:\n",
    "    t=0.10\n",
    "elif cost_price<=50000:\n",
    "    t=0.5\n",
    "rate=cost_price*t\n",
    "print(rate,\"is the road tax to be paid\")"
   ]
  },
  {
   "cell_type": "code",
   "execution_count": 6,
   "id": "742e0270-3d41-4298-bf12-404ac3773375",
   "metadata": {},
   "outputs": [
    {
     "name": "stdin",
     "output_type": "stream",
     "text": [
      "Enter the name of the city Kohima\n"
     ]
    },
    {
     "name": "stdout",
     "output_type": "stream",
     "text": [
      "Invalid Input\n"
     ]
    }
   ],
   "source": [
    "#3 Accept the cityfrom the user and display the monument of that city.\n",
    "\n",
    "city=str(input(\"Enter the name of the city\"))\n",
    "if city=='Delhi':\n",
    "    print(\"Red Fort\")\n",
    "elif city=='Agra':\n",
    "    print(\"Taj Mahal\")\n",
    "elif city=='JaiPur':\n",
    "    print(\"Jal Mahal\")\n",
    "else:\n",
    "    print(\"Invalid Input\")"
   ]
  },
  {
   "cell_type": "code",
   "execution_count": 7,
   "id": "7b7f23a3-748c-4c53-9ef4-6a4f60e09dad",
   "metadata": {},
   "outputs": [
    {
     "name": "stdin",
     "output_type": "stream",
     "text": [
      "Enter the number 567\n"
     ]
    },
    {
     "name": "stdout",
     "output_type": "stream",
     "text": [
      "Total iteration required 4\n"
     ]
    }
   ],
   "source": [
    "#4 Check how many times a given number can be divided by 3 before it is less than or equal to 10. \n",
    "\n",
    "count = 0\n",
    "number =int(input(\"Enter the number\"))\n",
    "while number > 10:\n",
    "    number = number / 3\n",
    "    count = count + 1\n",
    "print('Total iteration required', count)"
   ]
  },
  {
   "cell_type": "code",
   "execution_count": 8,
   "id": "3067858f-7e73-4844-adab-5de8b697c0c8",
   "metadata": {},
   "outputs": [],
   "source": [
    "#5 While and when to use the while loop in Python give a detailed description with example?\n",
    "\n",
    "# Ans-A While loop in Python allows a part of the code to be executed repeatedly as long as a given condition is true. \n",
    "# The While loop in Python is also called a pre-tested loop. It is typically used when the number of iterations is not known.\n",
    "# Example\n",
    "#  i = 1\n",
    "#  while i < 5 :\n",
    "\n",
    "#  print(i)\n",
    "\n",
    "#  i += 1"
   ]
  },
  {
   "cell_type": "code",
   "execution_count": 9,
   "id": "6e21f80e-aa1b-4234-aafd-c4a0bfdbe170",
   "metadata": {},
   "outputs": [
    {
     "name": "stdin",
     "output_type": "stream",
     "text": [
      "Enter number of rows :  5\n"
     ]
    },
    {
     "name": "stdout",
     "output_type": "stream",
     "text": [
      "* \n",
      "* * \n",
      "* * * \n",
      "* * * * \n",
      "* * * * * \n"
     ]
    }
   ],
   "source": [
    "#6 Using nested while loop tho print the three different patterns.\n",
    "#1-\n",
    "n = int(input('Enter number of rows : '))\n",
    "\n",
    "i = 1\n",
    "while i <= n :\n",
    "    j = 1\n",
    "    while j <= i:\n",
    "        print(\"*\", end = \" \")\n",
    "        j += 1\n",
    "    print()\n",
    "    i += 1"
   ]
  },
  {
   "cell_type": "code",
   "execution_count": 10,
   "id": "887934a2-b6c3-46b2-8fb5-6038a66f123d",
   "metadata": {},
   "outputs": [
    {
     "name": "stdin",
     "output_type": "stream",
     "text": [
      "Enter number of rows :  4\n"
     ]
    },
    {
     "name": "stdout",
     "output_type": "stream",
     "text": [
      "* * * * \n",
      "* * * \n",
      "* * \n",
      "* \n"
     ]
    }
   ],
   "source": [
    "#2-\n",
    "n = int(input('Enter number of rows : '))\n",
    " \n",
    "i = 1\n",
    "while i <= n :\n",
    "    j = n\n",
    "    while j >= i:\n",
    "        print(\"*\", end = \" \")\n",
    "        j -= 1\n",
    "    print()\n",
    "    i += 1"
   ]
  },
  {
   "cell_type": "code",
   "execution_count": 11,
   "id": "25721fc7-39ed-45ce-879d-582933e56a82",
   "metadata": {},
   "outputs": [
    {
     "name": "stdout",
     "output_type": "stream",
     "text": [
      "1 \n",
      "1 2 \n",
      "1 2 3 \n",
      "1 2 3 4 \n",
      "1 2 3 4 5 \n"
     ]
    }
   ],
   "source": [
    "#3-\n",
    "i=1\n",
    "while i<=5:\n",
    "    j=1\n",
    "    while j<=i:\n",
    "        print(j,end=\" \")\n",
    "        j=j+1\n",
    "    print(\"\")\n",
    "    i=i+1"
   ]
  },
  {
   "cell_type": "code",
   "execution_count": 12,
   "id": "67902688-0814-4b02-b109-b9bc3a82f757",
   "metadata": {},
   "outputs": [
    {
     "name": "stdout",
     "output_type": "stream",
     "text": [
      "10\n",
      "9\n",
      "8\n",
      "7\n",
      "6\n",
      "5\n",
      "4\n",
      "3\n",
      "2\n",
      "1\n"
     ]
    }
   ],
   "source": [
    "#7-Reverse a while loop to display number from 10 to 1.\n",
    "i =10\n",
    "while i>0:\n",
    "    print(i)\n",
    "    i=i-1"
   ]
  },
  {
   "cell_type": "code",
   "execution_count": 13,
   "id": "a57ee77d-051d-41af-8289-f72c2165e4c3",
   "metadata": {},
   "outputs": [
    {
     "name": "stdout",
     "output_type": "stream",
     "text": [
      "10\n",
      "9\n",
      "8\n",
      "7\n",
      "6\n",
      "5\n",
      "4\n",
      "3\n",
      "2\n",
      "1\n"
     ]
    }
   ],
   "source": [
    "#8-Reverse a while loop to display number from 10 to 1.\n",
    "i =10\n",
    "while i>0:\n",
    "    print(i)\n",
    "    i=i-1"
   ]
  },
  {
   "cell_type": "code",
   "execution_count": null,
   "id": "6d0432dd-8817-4605-a5a0-18e764ba4aa7",
   "metadata": {},
   "outputs": [],
   "source": []
  }
 ],
 "metadata": {
  "kernelspec": {
   "display_name": "Python 3 (ipykernel)",
   "language": "python",
   "name": "python3"
  },
  "language_info": {
   "codemirror_mode": {
    "name": "ipython",
    "version": 3
   },
   "file_extension": ".py",
   "mimetype": "text/x-python",
   "name": "python",
   "nbconvert_exporter": "python",
   "pygments_lexer": "ipython3",
   "version": "3.10.8"
  }
 },
 "nbformat": 4,
 "nbformat_minor": 5
}
