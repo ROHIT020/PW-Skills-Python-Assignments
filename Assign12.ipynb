{
 "cells": [
  {
   "cell_type": "markdown",
   "id": "be21e6c0-551d-4c42-bf30-2566f4172db4",
   "metadata": {},
   "source": [
    "Assignment1\n",
    "\n",
    "Create a list of different data fields and use appropriate Python data types to represent each of them. (Case study: - You are required to design the data structure to display the individual player stats for cricket players. A player may have represented more than one team and may have played in more than one format such as Test, ODI and T20)"
   ]
  },
  {
   "cell_type": "markdown",
   "id": "fa287c55-2b14-4ba9-987b-67d384b15070",
   "metadata": {},
   "source": [
    "Team1 Batting Scores"
   ]
  },
  {
   "cell_type": "code",
   "execution_count": 2,
   "id": "efb2d520-9d52-4d06-a42d-c22b9a5201f4",
   "metadata": {},
   "outputs": [
    {
     "name": "stdout",
     "output_type": "stream",
     "text": [
      "Enter No.of batsmen played\n"
     ]
    },
    {
     "name": "stdin",
     "output_type": "stream",
     "text": [
      " 2\n"
     ]
    },
    {
     "name": "stdout",
     "output_type": "stream",
     "text": [
      "Enter Name, runs scored, Balls faced, Sixers , Fours, Strike Rate respectively \n"
     ]
    },
    {
     "name": "stdin",
     "output_type": "stream",
     "text": [
      "Name: Rohit Sharma\n",
      "Runs Scored: 80\n",
      "Ball faced: 50\n",
      "Sixers: 5\n",
      "Fours: 5\n",
      "Strike Rate 160\n",
      "Name: Virat Kohli\n",
      "Runs Scored: 57\n",
      "Ball faced: 23\n",
      "Sixers: 5\n",
      "Fours: 3\n",
      "Strike Rate 248\n"
     ]
    },
    {
     "data": {
      "text/html": [
       "<div>\n",
       "<style scoped>\n",
       "    .dataframe tbody tr th:only-of-type {\n",
       "        vertical-align: middle;\n",
       "    }\n",
       "\n",
       "    .dataframe tbody tr th {\n",
       "        vertical-align: top;\n",
       "    }\n",
       "\n",
       "    .dataframe thead th {\n",
       "        text-align: right;\n",
       "    }\n",
       "</style>\n",
       "<table border=\"1\" class=\"dataframe\">\n",
       "  <thead>\n",
       "    <tr style=\"text-align: right;\">\n",
       "      <th></th>\n",
       "      <th>Runs</th>\n",
       "      <th>Balls_Faced</th>\n",
       "      <th>Sixers</th>\n",
       "      <th>Fours</th>\n",
       "      <th>Strike_Rate</th>\n",
       "    </tr>\n",
       "  </thead>\n",
       "  <tbody>\n",
       "    <tr>\n",
       "      <th>Rohit Sharma</th>\n",
       "      <td>80.0</td>\n",
       "      <td>50.0</td>\n",
       "      <td>5.0</td>\n",
       "      <td>5.0</td>\n",
       "      <td>160.0</td>\n",
       "    </tr>\n",
       "    <tr>\n",
       "      <th>Virat Kohli</th>\n",
       "      <td>57.0</td>\n",
       "      <td>23.0</td>\n",
       "      <td>5.0</td>\n",
       "      <td>3.0</td>\n",
       "      <td>248.0</td>\n",
       "    </tr>\n",
       "  </tbody>\n",
       "</table>\n",
       "</div>"
      ],
      "text/plain": [
       "              Runs  Balls_Faced  Sixers  Fours  Strike_Rate\n",
       "Rohit Sharma  80.0         50.0     5.0    5.0        160.0\n",
       "Virat Kohli   57.0         23.0     5.0    3.0        248.0"
      ]
     },
     "execution_count": 2,
     "metadata": {},
     "output_type": "execute_result"
    }
   ],
   "source": [
    "import pandas as pd\n",
    "print(\"Enter No.of batsmen played\")\n",
    "No = int(input())\n",
    "team1_batting = {}\n",
    "print(\"Enter Name, runs scored, Balls faced, Sixers , Fours, Strike Rate respectively \")\n",
    "for i in range (0 ,No):\n",
    "  name = str(input(\"Name:\"))\n",
    "  score = []\n",
    "  runs = int(input(\"Runs Scored:\"))\n",
    "  score.append(runs)\n",
    "\n",
    "  ball_faced = int(input(\"Ball faced:\"))\n",
    "  score.append(ball_faced)\n",
    "\n",
    "  six = int(input(\"Sixers:\"))\n",
    "  score.append(six)\n",
    "\n",
    "  fours = int(input(\"Fours:\"))\n",
    "  score.append(fours)\n",
    "\n",
    "  st_rate = float(input(\"Strike Rate\"))\n",
    "  score.append(st_rate)\n",
    "\n",
    "  team1_batting[name] = score  ;\n",
    "\n",
    "#print(team1_batting)\n",
    "df = pd.DataFrame(team1_batting , index= ['Runs','Balls_Faced' , 'Sixers','Fours','Strike_Rate'])\n",
    "df1=df.transpose()\n",
    "df1"
   ]
  },
  {
   "cell_type": "code",
   "execution_count": null,
   "id": "84bd4cb0-dc01-4b99-81c8-b12a96c1c954",
   "metadata": {},
   "outputs": [],
   "source": []
  }
 ],
 "metadata": {
  "kernelspec": {
   "display_name": "Python 3 (ipykernel)",
   "language": "python",
   "name": "python3"
  },
  "language_info": {
   "codemirror_mode": {
    "name": "ipython",
    "version": 3
   },
   "file_extension": ".py",
   "mimetype": "text/x-python",
   "name": "python",
   "nbconvert_exporter": "python",
   "pygments_lexer": "ipython3",
   "version": "3.10.8"
  }
 },
 "nbformat": 4,
 "nbformat_minor": 5
}
