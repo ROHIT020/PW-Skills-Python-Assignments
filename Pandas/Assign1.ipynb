{
 "cells": [
  {
   "cell_type": "code",
   "execution_count": 1,
   "id": "604aec2d-6281-40f7-8318-c02e3376cb65",
   "metadata": {},
   "outputs": [
    {
     "name": "stdout",
     "output_type": "stream",
     "text": [
      "    0\n",
      "0   4\n",
      "1   8\n",
      "2  15\n",
      "3  16\n",
      "4  23\n",
      "5  42\n"
     ]
    }
   ],
   "source": [
    " #Q.1> Create a Pandas Series that contains the following data: 4, 8, 15, 16, 23, and 42. Then, print the series.\n",
    "import pandas as pd \n",
    "data = [4, 8, 15, 16, 23, 42]\n",
    "df = pd.DataFrame(data)\n",
    "print(df)"
   ]
  },
  {
   "cell_type": "code",
   "execution_count": 3,
   "id": "89b28701-a6e9-4236-9467-a9584966bc83",
   "metadata": {},
   "outputs": [
    {
     "name": "stdout",
     "output_type": "stream",
     "text": [
      "          0\n",
      "0     sagar\n",
      "1      aman\n",
      "2  abhishek\n",
      "3      atul\n",
      "4     ritik\n",
      "5   animash\n"
     ]
    }
   ],
   "source": [
    "#Q.2> Create a variable of list type containing 10 elements in it, and apply pandas.Series function on the\n",
    "#     variable print it.\n",
    "import pandas as pd \n",
    "data =  [\"sagar\" , \"aman\" , \"abhishek\" , \"atul\" , \"ritik\" , \"animash\" ]\n",
    "df = pd.DataFrame(data)\n",
    "print(df)"
   ]
  },
  {
   "cell_type": "code",
   "execution_count": 4,
   "id": "bda8e31c-b452-4022-b8b5-ca9934f17f41",
   "metadata": {},
   "outputs": [
    {
     "name": "stdout",
     "output_type": "stream",
     "text": [
      "     Name  Age  Gender\n",
      "0   Alice   25  Female\n",
      "1     Bob   30    Male\n",
      "2  Claire   27  Female\n"
     ]
    }
   ],
   "source": [
    "#Q.3> Create a Pandas DataFrame that contains the following data:\n",
    "#     Then, print the DataFrame.\n",
    "import pandas as pd \n",
    "data = {'Name': ['Alice' ,  'Bob' ,  'Claire'],\n",
    "\n",
    "        'Age': [25, 30, 27],\n",
    "\n",
    "        'Gender': ['Female', 'Male', 'Female']}\n",
    "df = pd.DataFrame(data)\n",
    "print(df)"
   ]
  },
  {
   "cell_type": "code",
   "execution_count": 5,
   "id": "ec72b306-8118-4625-ad9c-f59e8617e1c8",
   "metadata": {},
   "outputs": [
    {
     "name": "stdout",
     "output_type": "stream",
     "text": [
      "      Name  Age  Gender\n",
      "0    Alice   25  Female\n",
      "1      Bob   30    Male\n",
      "2  Charlie   35    Male\n"
     ]
    }
   ],
   "source": [
    "##Q.4> What is ‘DataFrame’ in pandas and how is it different from pandas.series? Explain with an example.\n",
    "# Ans>  In Pandas, a DataFrame is a two-dimensional labeled data structure with columns of potentially \n",
    "#        different data types. It is similar to a spreadsheet  or a  SQL table. In a DataFrame , data is \n",
    "#        organized in rows and columns, where each column can be considered as a Pandas Series.\n",
    "#\n",
    "#        On the other hand, a Series in Pandas is a one-dimensional labeled array that can contain data of any \n",
    "#       data type, including integers, strings, and floating-point numbers. It is similar to a column in a \n",
    "#      spreadsheet or a SQL table.\n",
    "#\n",
    "#         The main difference between a DataFrame and a Series is that a DataFrame is a two-dimensional data \n",
    "#         structure with rows and columns, while a Series is a one-dimensional data structure with only one column.\n",
    "#         Here's an example to illustrate the difference between a DataFrame and a Series:\n",
    "\n",
    "#         Suppose we have the following data:\n",
    "#         Name(Alice , Bob, Charlie) , Age(25, 3, 35) , Gender (Female,Male ,Male)\n",
    "#         We can represent this data using a DataFrame in Pandas as follows:'''\n",
    "import pandas as pd\n",
    "\n",
    "data = {'Name': ['Alice', 'Bob', 'Charlie'],\n",
    "        'Age': [25, 30, 35],\n",
    "        'Gender': ['Female', 'Male', 'Male']}\n",
    "\n",
    "df = pd.DataFrame(data)\n",
    "\n",
    "print(df)"
   ]
  },
  {
   "cell_type": "code",
   "execution_count": null,
   "id": "7890d0e1-38b5-45e5-a434-eaceccf989f1",
   "metadata": {},
   "outputs": [],
   "source": []
  },
  {
   "cell_type": "code",
   "execution_count": null,
   "id": "ff46056c-2fa1-44d7-8211-6d6ceef28d48",
   "metadata": {},
   "outputs": [],
   "source": []
  },
  {
   "cell_type": "code",
   "execution_count": null,
   "id": "8e448ed9-fc8d-40ad-92dd-5f144e1e2617",
   "metadata": {},
   "outputs": [],
   "source": []
  },
  {
   "cell_type": "code",
   "execution_count": null,
   "id": "11f573c8-7c81-4f2d-abff-136a3d532579",
   "metadata": {},
   "outputs": [],
   "source": []
  },
  {
   "cell_type": "code",
   "execution_count": null,
   "id": "79865b8d-9fae-425b-9a35-0b3c9621d99b",
   "metadata": {},
   "outputs": [],
   "source": []
  },
  {
   "cell_type": "code",
   "execution_count": null,
   "id": "ede663be-b387-4eb2-b96c-79cca5f36bb1",
   "metadata": {},
   "outputs": [],
   "source": []
  },
  {
   "cell_type": "code",
   "execution_count": null,
   "id": "1312a244-8a08-466a-8954-c70435220e07",
   "metadata": {},
   "outputs": [],
   "source": []
  }
 ],
 "metadata": {
  "kernelspec": {
   "display_name": "Python 3 (ipykernel)",
   "language": "python",
   "name": "python3"
  },
  "language_info": {
   "codemirror_mode": {
    "name": "ipython",
    "version": 3
   },
   "file_extension": ".py",
   "mimetype": "text/x-python",
   "name": "python",
   "nbconvert_exporter": "python",
   "pygments_lexer": "ipython3",
   "version": "3.10.8"
  }
 },
 "nbformat": 4,
 "nbformat_minor": 5
}
